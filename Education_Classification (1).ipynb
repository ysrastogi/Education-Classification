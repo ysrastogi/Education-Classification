{
  "nbformat": 4,
  "nbformat_minor": 0,
  "metadata": {
    "colab": {
      "name": "Education_Classification",
      "provenance": [],
      "collapsed_sections": []
    },
    "kernelspec": {
      "name": "python3",
      "display_name": "Python 3"
    },
    "language_info": {
      "name": "python"
    }
  },
  "cells": [
    {
      "cell_type": "markdown",
      "metadata": {
        "id": "HUDMShzHBPvU"
      },
      "source": [
        "**MACHINE LEARNING MODELS FOR EDUCATION CATEGORY**<br>\n",
        "MULTICLASS CLASSIFICATION ML ALGORTHIMS IMPLEMENTED:-\n",
        "\n",
        "\n",
        "1.   DECISION TREE\n",
        "2.   SVM\n",
        "3.   GAUSIAN BAYES\n",
        "4.   K-NN\n",
        "\n",
        "BEST ACCURACY MODEL: -<BR>\n",
        "SVM (C=10,KERNEL=LINEAR)"
      ]
    },
    {
      "cell_type": "code",
      "metadata": {
        "id": "dsXV-8TcYb9u"
      },
      "source": [
        "#importing the libraries\n",
        "import numpy as np\n",
        "import pandas as pd\n",
        "from sklearn.metrics import confusion_matrix,accuracy_score"
      ],
      "execution_count": null,
      "outputs": []
    },
    {
      "cell_type": "code",
      "metadata": {
        "id": "SbMKVafFYmX1"
      },
      "source": [
        "#reading dataset\n",
        "dataset=pd.read_csv('Education.csv')"
      ],
      "execution_count": null,
      "outputs": []
    },
    {
      "cell_type": "code",
      "metadata": {
        "colab": {
          "base_uri": "https://localhost:8080/",
          "height": 206
        },
        "id": "Eb438u9sYo6u",
        "outputId": "d1daed7d-7233-4451-fc32-b3de76c3ff57"
      },
      "source": [
        "dataset.head()"
      ],
      "execution_count": null,
      "outputs": [
        {
          "output_type": "execute_result",
          "data": {
            "text/html": [
              "<div>\n",
              "<style scoped>\n",
              "    .dataframe tbody tr th:only-of-type {\n",
              "        vertical-align: middle;\n",
              "    }\n",
              "\n",
              "    .dataframe tbody tr th {\n",
              "        vertical-align: top;\n",
              "    }\n",
              "\n",
              "    .dataframe thead th {\n",
              "        text-align: right;\n",
              "    }\n",
              "</style>\n",
              "<table border=\"1\" class=\"dataframe\">\n",
              "  <thead>\n",
              "    <tr style=\"text-align: right;\">\n",
              "      <th></th>\n",
              "      <th>College Tier</th>\n",
              "      <th>Course</th>\n",
              "      <th>Marks%</th>\n",
              "      <th>Intership</th>\n",
              "      <th>Credit Score</th>\n",
              "      <th>Rating</th>\n",
              "    </tr>\n",
              "  </thead>\n",
              "  <tbody>\n",
              "    <tr>\n",
              "      <th>0</th>\n",
              "      <td>1</td>\n",
              "      <td>1</td>\n",
              "      <td>91</td>\n",
              "      <td>6</td>\n",
              "      <td>401</td>\n",
              "      <td>AA</td>\n",
              "    </tr>\n",
              "    <tr>\n",
              "      <th>1</th>\n",
              "      <td>1</td>\n",
              "      <td>1</td>\n",
              "      <td>88</td>\n",
              "      <td>6</td>\n",
              "      <td>398</td>\n",
              "      <td>AA</td>\n",
              "    </tr>\n",
              "    <tr>\n",
              "      <th>2</th>\n",
              "      <td>1</td>\n",
              "      <td>1</td>\n",
              "      <td>89</td>\n",
              "      <td>5</td>\n",
              "      <td>389</td>\n",
              "      <td>AA</td>\n",
              "    </tr>\n",
              "    <tr>\n",
              "      <th>3</th>\n",
              "      <td>1</td>\n",
              "      <td>1</td>\n",
              "      <td>77</td>\n",
              "      <td>6</td>\n",
              "      <td>387</td>\n",
              "      <td>AA</td>\n",
              "    </tr>\n",
              "    <tr>\n",
              "      <th>4</th>\n",
              "      <td>1</td>\n",
              "      <td>1</td>\n",
              "      <td>95</td>\n",
              "      <td>4</td>\n",
              "      <td>385</td>\n",
              "      <td>AA</td>\n",
              "    </tr>\n",
              "  </tbody>\n",
              "</table>\n",
              "</div>"
            ],
            "text/plain": [
              "   College Tier  Course  Marks%  Intership  Credit Score Rating\n",
              "0             1       1      91          6           401     AA\n",
              "1             1       1      88          6           398     AA\n",
              "2             1       1      89          5           389     AA\n",
              "3             1       1      77          6           387     AA\n",
              "4             1       1      95          4           385     AA"
            ]
          },
          "metadata": {},
          "execution_count": 3
        }
      ]
    },
    {
      "cell_type": "code",
      "metadata": {
        "id": "5WL6i00fYqzl"
      },
      "source": [
        "#declaring and assigning values to dependent and indepedent variables\n",
        "X = dataset.iloc[:,0:4].values\n",
        "y = dataset.iloc[:,5].values"
      ],
      "execution_count": null,
      "outputs": []
    },
    {
      "cell_type": "code",
      "metadata": {
        "colab": {
          "base_uri": "https://localhost:8080/"
        },
        "id": "uuH1yEWRYtvV",
        "outputId": "129bcf57-c78d-4429-a9b9-cafaf8cc4659"
      },
      "source": [
        "#X Head\n",
        "X[0:10,:]"
      ],
      "execution_count": null,
      "outputs": [
        {
          "output_type": "execute_result",
          "data": {
            "text/plain": [
              "array([[ 1,  1, 91,  6],\n",
              "       [ 1,  1, 88,  6],\n",
              "       [ 1,  1, 89,  5],\n",
              "       [ 1,  1, 77,  6],\n",
              "       [ 1,  1, 95,  4],\n",
              "       [ 1,  1, 60,  6],\n",
              "       [ 1,  2, 83,  6],\n",
              "       [ 1,  2, 90,  5],\n",
              "       [ 1,  1, 75,  4],\n",
              "       [ 2,  1, 85,  6]])"
            ]
          },
          "metadata": {},
          "execution_count": 5
        }
      ]
    },
    {
      "cell_type": "code",
      "metadata": {
        "colab": {
          "base_uri": "https://localhost:8080/"
        },
        "id": "a0QiAQB7Y6Yd",
        "outputId": "3bee7fdc-c2c7-4c86-843e-ce264fdfc676"
      },
      "source": [
        "y"
      ],
      "execution_count": null,
      "outputs": [
        {
          "output_type": "execute_result",
          "data": {
            "text/plain": [
              "array(['AA', 'AA', 'AA', 'AA', 'AA', 'AA', 'AA', 'AA', 'AA', 'AA', 'AA',\n",
              "       'AA', 'AA', 'AA', 'AA', 'AA', 'AA', 'AA', 'AA', 'AA', 'AA', 'AA',\n",
              "       'AA', 'AA', 'AA', 'AA', 'AA', 'AA', 'AA', 'AA', 'AA', 'AA', 'AA',\n",
              "       'A', 'A', 'A', 'A', 'A', 'A', 'A', 'A', 'A', 'A', 'A', 'A', 'A',\n",
              "       'A', 'A', 'A', 'A', 'A', 'A', 'A', 'A', 'A', 'A', 'A', 'A', 'A',\n",
              "       'A', 'A', 'A', 'A', 'A', 'A', 'A', 'A', 'A', 'A', 'A', 'A', 'A',\n",
              "       'A', 'A', 'A', 'A', 'A', 'A', 'A', 'A', 'A', 'A', 'A', 'A', 'A',\n",
              "       'A', 'A', 'A', 'A', 'A', 'A', 'BB', 'BB', 'BB', 'BB', 'BB', 'BB',\n",
              "       'BB', 'BB', 'BB', 'BB', 'BB', 'BB', 'BB', 'BB', 'BB', 'BB', 'BB',\n",
              "       'BB', 'BB', 'BB', 'BB', 'BB', 'BB', 'BB', 'BB', 'BB', 'BB', 'BB',\n",
              "       'BB', 'BB', 'BB', 'BB', 'BB', 'BB', 'BB', 'BB', 'BB', 'BB', 'BB',\n",
              "       'BB', 'BB', 'B', 'B', 'B', 'B', 'B', 'B', 'B', 'B', 'B', 'B', 'B',\n",
              "       'B', 'B', 'B', 'B', 'B', 'B', 'B', 'B', 'B', 'B', 'B', 'B', 'B',\n",
              "       'B', 'B', 'B', 'B', 'B', 'B', 'B'], dtype=object)"
            ]
          },
          "metadata": {},
          "execution_count": 6
        }
      ]
    },
    {
      "cell_type": "code",
      "metadata": {
        "id": "WD3oP2WCY9gE"
      },
      "source": [
        "#spilting into training and testing dataset\n",
        "#70% is training dataset and 30% is testing dataset\n",
        "from sklearn.model_selection import train_test_split\n",
        "X_train,X_test,y_train,y_test= train_test_split(X,y,test_size=0.3,shuffle=True)\n"
      ],
      "execution_count": null,
      "outputs": []
    },
    {
      "cell_type": "code",
      "metadata": {
        "id": "8EguZHlAZCNm"
      },
      "source": [
        "# training a DescisionTreeClassifier\n",
        "from sklearn.tree import DecisionTreeClassifier\n",
        "dtree_model = DecisionTreeClassifier(criterion='entropy').fit(X_train, y_train)\n",
        "dtree_predictions = dtree_model.predict(X_test)"
      ],
      "execution_count": null,
      "outputs": []
    },
    {
      "cell_type": "code",
      "metadata": {
        "colab": {
          "base_uri": "https://localhost:8080/"
        },
        "id": "ZN5K6hHGZE6F",
        "outputId": "b8230afa-598a-4a05-b913-20e4a79d9e6f"
      },
      "source": [
        "# creating a confusion matrix\n",
        "dtree_cm = confusion_matrix(y_test, dtree_predictions)\n",
        "dtree_cm"
      ],
      "execution_count": null,
      "outputs": [
        {
          "output_type": "execute_result",
          "data": {
            "text/plain": [
              "array([[12,  2,  0,  1],\n",
              "       [ 1,  9,  0,  0],\n",
              "       [ 1,  0, 10,  0],\n",
              "       [ 6,  0,  0,  7]])"
            ]
          },
          "metadata": {},
          "execution_count": 9
        }
      ]
    },
    {
      "cell_type": "code",
      "metadata": {
        "colab": {
          "base_uri": "https://localhost:8080/"
        },
        "id": "Z87f6Rk1ZHRV",
        "outputId": "7c57b98d-1384-4293-afcf-13a2f73bd0f4"
      },
      "source": [
        "#decision tree accuracy\n",
        "dtree_accuracy = accuracy_score(dtree_predictions,y_test)\n",
        "dtree_accuracy"
      ],
      "execution_count": null,
      "outputs": [
        {
          "output_type": "execute_result",
          "data": {
            "text/plain": [
              "0.7755102040816326"
            ]
          },
          "metadata": {},
          "execution_count": 10
        }
      ]
    },
    {
      "cell_type": "code",
      "metadata": {
        "id": "oB99SNjmZu54"
      },
      "source": [
        "# training a KNN classifier\n",
        "from sklearn.neighbors import KNeighborsClassifier\n",
        "knn = KNeighborsClassifier(n_neighbors = 1).fit(X_train, y_train)\n",
        "knn_predictions = knn.predict(X_test)"
      ],
      "execution_count": null,
      "outputs": []
    },
    {
      "cell_type": "code",
      "metadata": {
        "colab": {
          "base_uri": "https://localhost:8080/"
        },
        "id": "9ysrNtO8ZycI",
        "outputId": "f0f13a24-8e94-4c8e-8754-1d38ce7b1618"
      },
      "source": [
        "# creating a confusion matrix \n",
        "knn_cm = confusion_matrix(y_test, knn_predictions)\n",
        "knn_cm"
      ],
      "execution_count": null,
      "outputs": [
        {
          "output_type": "execute_result",
          "data": {
            "text/plain": [
              "array([[6, 2, 0, 7],\n",
              "       [2, 8, 0, 0],\n",
              "       [0, 0, 7, 4],\n",
              "       [3, 1, 4, 5]])"
            ]
          },
          "metadata": {},
          "execution_count": 12
        }
      ]
    },
    {
      "cell_type": "code",
      "metadata": {
        "colab": {
          "base_uri": "https://localhost:8080/"
        },
        "id": "SHkkmcEPZyzw",
        "outputId": "eb6fa1b1-0ea2-4511-daa5-1dd57da6f877"
      },
      "source": [
        "# accuracy on X_test\n",
        "KNN_accuracy = knn.score(X_test, y_test)\n",
        "KNN_accuracy"
      ],
      "execution_count": null,
      "outputs": [
        {
          "output_type": "execute_result",
          "data": {
            "text/plain": [
              "0.5306122448979592"
            ]
          },
          "metadata": {},
          "execution_count": 13
        }
      ]
    },
    {
      "cell_type": "code",
      "metadata": {
        "id": "tZlWH_IFZ8Sw"
      },
      "source": [
        "# training naive bayes\n",
        "# training a Naive Bayes classifier\n",
        "from sklearn.naive_bayes import GaussianNB\n",
        "gnb = GaussianNB().fit(X_train, y_train)\n",
        "gnb_predictions = gnb.predict(X_test)"
      ],
      "execution_count": null,
      "outputs": []
    },
    {
      "cell_type": "code",
      "metadata": {
        "id": "f40KWUPbZ8VK"
      },
      "source": [
        "# accuracy on X_test\n",
        "gnb_accuracy = gnb.score(X_test, y_test)"
      ],
      "execution_count": null,
      "outputs": []
    },
    {
      "cell_type": "code",
      "metadata": {
        "colab": {
          "base_uri": "https://localhost:8080/"
        },
        "id": "MtYS7RofAUib",
        "outputId": "44420df0-a38f-4d69-c8b8-9fbc95482b0d"
      },
      "source": [
        "# creating a gnb confusion matrix\n",
        "gnb_cm = confusion_matrix(y_test, gnb_predictions)\n",
        "gnb_cm"
      ],
      "execution_count": null,
      "outputs": [
        {
          "output_type": "execute_result",
          "data": {
            "text/plain": [
              "array([[14,  0,  0,  1],\n",
              "       [ 3,  7,  0,  0],\n",
              "       [ 0,  0, 10,  1],\n",
              "       [ 1,  0,  1, 11]])"
            ]
          },
          "metadata": {},
          "execution_count": 16
        }
      ]
    },
    {
      "cell_type": "code",
      "metadata": {
        "id": "MjHA77NnAVzN"
      },
      "source": [
        "# training a linear SVM classifier\n",
        "from sklearn.svm import SVC\n",
        "svm_model_linear = SVC(kernel = 'linear', C = 10).fit(X_train, y_train)\n",
        "svm_predictions = svm_model_linear.predict(X_test)"
      ],
      "execution_count": null,
      "outputs": []
    },
    {
      "cell_type": "code",
      "metadata": {
        "colab": {
          "base_uri": "https://localhost:8080/"
        },
        "id": "eqgdLRcUAV2t",
        "outputId": "3a50a86e-e7f0-4ca9-e16b-ecffda377a9e"
      },
      "source": [
        "# model accuracy for X_test  \n",
        "svm_accuracy = svm_model_linear.score(X_test, y_test)\n",
        "svm_accuracy"
      ],
      "execution_count": null,
      "outputs": [
        {
          "output_type": "execute_result",
          "data": {
            "text/plain": [
              "0.9591836734693877"
            ]
          },
          "metadata": {},
          "execution_count": 18
        }
      ]
    },
    {
      "cell_type": "code",
      "metadata": {
        "colab": {
          "base_uri": "https://localhost:8080/"
        },
        "id": "DGmIo3ObAWFz",
        "outputId": "47270ff6-21d8-4897-9733-b3cd4dcb1e6a"
      },
      "source": [
        "# creating a confusion matrix\n",
        "svm_cm = confusion_matrix(y_test, svm_predictions)\n",
        "svm_cm"
      ],
      "execution_count": null,
      "outputs": [
        {
          "output_type": "execute_result",
          "data": {
            "text/plain": [
              "array([[14,  1,  0,  0],\n",
              "       [ 0, 10,  0,  0],\n",
              "       [ 0,  0, 10,  1],\n",
              "       [ 0,  0,  0, 13]])"
            ]
          },
          "metadata": {},
          "execution_count": 19
        }
      ]
    },
    {
      "cell_type": "code",
      "metadata": {
        "colab": {
          "base_uri": "https://localhost:8080/"
        },
        "id": "9dPBZqH_AsIv",
        "outputId": "a8d9b03f-0272-4d66-8e0a-48b8d84d111c"
      },
      "source": [
        "#Hyperparameter Tuning        \n",
        "from sklearn.model_selection import GridSearchCV\n",
        "parameters = [{'C': [1, 10, 100, 1000], 'kernel': ['linear']},\n",
        "              {'C': [1, 10, 100, 1000], 'kernel': ['rbf'], 'gamma': [0.01,0.02,0.03,0.04,0.05,0.06,0.07,0.08,0.09]},\n",
        "              {'C': [1, 10, 100, 1000], 'kernel': ['sigmoid'], 'gamma': [0.1,0.01,0.001,0.0001]}] \n",
        "grid_search = GridSearchCV(estimator = SVC(),\n",
        "                           param_grid = parameters,\n",
        "                           scoring = 'accuracy',\n",
        "                           cv = 10,\n",
        "                           n_jobs = -1)\n",
        "grid_search = grid_search.fit(X_train, y_train)\n",
        "best_accuracy = grid_search.best_score_\n",
        "best_parameters = grid_search.best_params_\n",
        "best_accuracy"
      ],
      "execution_count": null,
      "outputs": [
        {
          "output_type": "execute_result",
          "data": {
            "text/plain": [
              "0.9651515151515152"
            ]
          },
          "metadata": {},
          "execution_count": 20
        }
      ]
    },
    {
      "cell_type": "code",
      "metadata": {
        "colab": {
          "base_uri": "https://localhost:8080/"
        },
        "id": "hu78zuxZAsf0",
        "outputId": "d2d3041d-e5ce-4e61-e36c-23137be6beab"
      },
      "source": [
        "#Best parameters after SVM Hyperparameter Tuning\n",
        "best_parameters"
      ],
      "execution_count": null,
      "outputs": [
        {
          "output_type": "execute_result",
          "data": {
            "text/plain": [
              "{'C': 100, 'kernel': 'linear'}"
            ]
          },
          "metadata": {},
          "execution_count": 21
        }
      ]
    },
    {
      "cell_type": "code",
      "metadata": {
        "colab": {
          "base_uri": "https://localhost:8080/"
        },
        "id": "Ga5bUcQBA5H9",
        "outputId": "aea9d116-0bea-4ee1-ff31-9b4b29fe4cab"
      },
      "source": [
        "#SVM User prediction for Employment\n",
        "college=4\n",
        "course=1\n",
        "marks=57\n",
        "internship=6\n",
        "var1 = np.array([[college,course,marks,internship]])\n",
        "user_prediction= svm_model_linear.predict(var1)\n",
        "print(user_prediction)"
      ],
      "execution_count": null,
      "outputs": [
        {
          "output_type": "stream",
          "name": "stdout",
          "text": [
            "['A']\n"
          ]
        }
      ]
    }
  ]
}